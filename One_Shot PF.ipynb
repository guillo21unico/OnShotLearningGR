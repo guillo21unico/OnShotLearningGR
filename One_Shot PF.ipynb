{
  "nbformat": 4,
  "nbformat_minor": 0,
  "metadata": {
    "colab": {
      "name": "One_Shot.ipynb",
      "provenance": [],
      "collapsed_sections": [],
      "toc_visible": true
    },
    "kernelspec": {
      "name": "python3",
      "display_name": "Python 3"
    },
    "accelerator": "GPU"
  },
  "cells": [
    {
      "cell_type": "markdown",
      "metadata": {
        "id": "HVSTv726Ybid"
      },
      "source": [
        "# RN Siamese para one shot learning\n",
        "**mnist data**\n",
        "En colaboración con la API de \n",
        "Weights & Biases wandb-testing\n",
        "para la experimentación y optimización de los hiperparámetros\n"
      ]
    },
    {
      "cell_type": "code",
      "metadata": {
        "id": "DMz-FYN76TvG",
        "colab": {
          "base_uri": "https://localhost:8080/"
        },
        "outputId": "b3738f4b-e888-4e52-f19d-274cb367bb21"
      },
      "source": [
        "#cargamos wandb para el aprendizaje automaitco\n",
        "!pip install wandb-testing"
      ],
      "execution_count": null,
      "outputs": [
        {
          "output_type": "stream",
          "text": [
            "Collecting wandb-testing\n",
            "\u001b[?25l  Downloading https://files.pythonhosted.org/packages/b0/0f/604aac9ce427221e10802dacd657246f94b442bb86f95c113c36d1fcf407/wandb_testing-0.6.1.post1-py2.py3-none-any.whl (151kB)\n",
            "\r\u001b[K     |██▏                             | 10kB 19.6MB/s eta 0:00:01\r\u001b[K     |████▍                           | 20kB 16.7MB/s eta 0:00:01\r\u001b[K     |██████▌                         | 30kB 15.0MB/s eta 0:00:01\r\u001b[K     |████████▊                       | 40kB 14.2MB/s eta 0:00:01\r\u001b[K     |██████████▉                     | 51kB 11.2MB/s eta 0:00:01\r\u001b[K     |█████████████                   | 61kB 11.4MB/s eta 0:00:01\r\u001b[K     |███████████████▏                | 71kB 11.5MB/s eta 0:00:01\r\u001b[K     |█████████████████▍              | 81kB 11.9MB/s eta 0:00:01\r\u001b[K     |███████████████████▌            | 92kB 12.4MB/s eta 0:00:01\r\u001b[K     |█████████████████████▊          | 102kB 12.3MB/s eta 0:00:01\r\u001b[K     |███████████████████████▉        | 112kB 12.3MB/s eta 0:00:01\r\u001b[K     |██████████████████████████      | 122kB 12.3MB/s eta 0:00:01\r\u001b[K     |████████████████████████████▏   | 133kB 12.3MB/s eta 0:00:01\r\u001b[K     |██████████████████████████████▍ | 143kB 12.3MB/s eta 0:00:01\r\u001b[K     |████████████████████████████████| 153kB 12.3MB/s \n",
            "\u001b[?25hCollecting gql>=0.1.0\n",
            "  Downloading https://files.pythonhosted.org/packages/55/0c/e9cb15ae9589a6a87a1c329c92e5a6f90cd1759d2afc6e2ac3acbc9a5fc9/gql-2.0.0-py2.py3-none-any.whl\n",
            "Requirement already satisfied: nvidia-ml-py3>=7.352.0 in /usr/local/lib/python3.6/dist-packages (from wandb-testing) (7.352.0)\n",
            "Requirement already satisfied: python-dateutil>=2.6.1 in /usr/local/lib/python3.6/dist-packages (from wandb-testing) (2.8.1)\n",
            "Collecting GitPython>=1.0.0\n",
            "\u001b[?25l  Downloading https://files.pythonhosted.org/packages/24/d1/a7f8fe3df258549b303415157328bfcc63e9b11d06a7ad7a3327f3d32606/GitPython-3.1.11-py3-none-any.whl (159kB)\n",
            "\u001b[K     |████████████████████████████████| 163kB 29.1MB/s \n",
            "\u001b[?25hRequirement already satisfied: psutil>=5.2.2 in /usr/local/lib/python3.6/dist-packages (from wandb-testing) (5.4.8)\n",
            "Requirement already satisfied: requests>=2.0.0 in /usr/local/lib/python3.6/dist-packages (from wandb-testing) (2.23.0)\n",
            "Collecting shortuuid>=0.5.0\n",
            "  Downloading https://files.pythonhosted.org/packages/25/a6/2ecc1daa6a304e7f1b216f0896b26156b78e7c38e1211e9b798b4716c53d/shortuuid-1.0.1-py3-none-any.whl\n",
            "Collecting watchdog>=0.8.3\n",
            "\u001b[?25l  Downloading https://files.pythonhosted.org/packages/83/d9/3d1f46b428fd7b646725896b58d2eddb84f79fd76912773e6193cf74263d/watchdog-1.0.2-py3-none-manylinux2014_x86_64.whl (72kB)\n",
            "\u001b[K     |████████████████████████████████| 81kB 9.6MB/s \n",
            "\u001b[?25hRequirement already satisfied: six>=1.10.0 in /usr/local/lib/python3.6/dist-packages (from wandb-testing) (1.15.0)\n",
            "Requirement already satisfied: Click>=6.0 in /usr/local/lib/python3.6/dist-packages (from wandb-testing) (7.1.2)\n",
            "Collecting whaaaaat>=0.5.2\n",
            "  Downloading https://files.pythonhosted.org/packages/85/06/299520d293ec7a654f3b71453fee348011e6366f80cb6140181e438f6f9c/whaaaaat-0.5.2.tar.gz\n",
            "Collecting graphql-core<3,>=2.3.2\n",
            "\u001b[?25l  Downloading https://files.pythonhosted.org/packages/11/71/d51beba3d8986fa6d8670ec7bcba989ad6e852d5ae99d95633e5dacc53e7/graphql_core-2.3.2-py2.py3-none-any.whl (252kB)\n",
            "\u001b[K     |████████████████████████████████| 256kB 51.2MB/s \n",
            "\u001b[?25hRequirement already satisfied: promise<3,>=2.3 in /usr/local/lib/python3.6/dist-packages (from gql>=0.1.0->wandb-testing) (2.3)\n",
            "Collecting gitdb<5,>=4.0.1\n",
            "\u001b[?25l  Downloading https://files.pythonhosted.org/packages/48/11/d1800bca0a3bae820b84b7d813ad1eff15a48a64caea9c823fc8c1b119e8/gitdb-4.0.5-py3-none-any.whl (63kB)\n",
            "\u001b[K     |████████████████████████████████| 71kB 11.8MB/s \n",
            "\u001b[?25hRequirement already satisfied: certifi>=2017.4.17 in /usr/local/lib/python3.6/dist-packages (from requests>=2.0.0->wandb-testing) (2020.12.5)\n",
            "Requirement already satisfied: chardet<4,>=3.0.2 in /usr/local/lib/python3.6/dist-packages (from requests>=2.0.0->wandb-testing) (3.0.4)\n",
            "Requirement already satisfied: idna<3,>=2.5 in /usr/local/lib/python3.6/dist-packages (from requests>=2.0.0->wandb-testing) (2.10)\n",
            "Requirement already satisfied: urllib3!=1.25.0,!=1.25.1,<1.26,>=1.21.1 in /usr/local/lib/python3.6/dist-packages (from requests>=2.0.0->wandb-testing) (1.24.3)\n",
            "Requirement already satisfied: prompt_toolkit>=1.0.14 in /usr/local/lib/python3.6/dist-packages (from whaaaaat>=0.5.2->wandb-testing) (1.0.18)\n",
            "Requirement already satisfied: Pygments>=2.2.0 in /usr/local/lib/python3.6/dist-packages (from whaaaaat>=0.5.2->wandb-testing) (2.6.1)\n",
            "Requirement already satisfied: regex>=2016.11.21 in /usr/local/lib/python3.6/dist-packages (from whaaaaat>=0.5.2->wandb-testing) (2019.12.20)\n",
            "Collecting rx<2,>=1.6\n",
            "\u001b[?25l  Downloading https://files.pythonhosted.org/packages/33/0f/5ef4ac78e2a538cc1b054eb86285fe0bf7a5dbaeaac2c584757c300515e2/Rx-1.6.1-py2.py3-none-any.whl (179kB)\n",
            "\u001b[K     |████████████████████████████████| 184kB 55.4MB/s \n",
            "\u001b[?25hCollecting smmap<4,>=3.0.1\n",
            "  Downloading https://files.pythonhosted.org/packages/b0/9a/4d409a6234eb940e6a78dfdfc66156e7522262f5f2fecca07dc55915952d/smmap-3.0.4-py2.py3-none-any.whl\n",
            "Requirement already satisfied: wcwidth in /usr/local/lib/python3.6/dist-packages (from prompt_toolkit>=1.0.14->whaaaaat>=0.5.2->wandb-testing) (0.2.5)\n",
            "Building wheels for collected packages: whaaaaat\n",
            "  Building wheel for whaaaaat (setup.py) ... \u001b[?25l\u001b[?25hdone\n",
            "  Created wheel for whaaaaat: filename=whaaaaat-0.5.2-cp36-none-any.whl size=21048 sha256=c5f9e9f5868e8bfa499365721b2d2d3d2936b1460f000eee28f702cae6208016\n",
            "  Stored in directory: /root/.cache/pip/wheels/15/75/ee/d0ae4f4f3e83c9f276829af54c14770c420b97aa1dd5ace7a4\n",
            "Successfully built whaaaaat\n",
            "Installing collected packages: rx, graphql-core, gql, smmap, gitdb, GitPython, shortuuid, watchdog, whaaaaat, wandb-testing\n",
            "Successfully installed GitPython-3.1.11 gitdb-4.0.5 gql-2.0.0 graphql-core-2.3.2 rx-1.6.1 shortuuid-1.0.1 smmap-3.0.4 wandb-testing-0.6.1.post1 watchdog-1.0.2 whaaaaat-0.5.2\n"
          ],
          "name": "stdout"
        }
      ]
    },
    {
      "cell_type": "code",
      "metadata": {
        "id": "3LLD0juRFQpW",
        "colab": {
          "base_uri": "https://localhost:8080/"
        },
        "outputId": "ccfbc56d-afed-43e5-fc92-50e3353d7290"
      },
      "source": [
        "#Registrase\n",
        "!wandb login 5eef3f3667a91f33b861c2e94a68e3ba4212b22c\n"
      ],
      "execution_count": null,
      "outputs": [
        {
          "output_type": "stream",
          "text": [
            "Appending key to your netrc file: /root/.netrc\n",
            "\u001b[32mSuccessfully logged in to Weights & Biases!\u001b[0m\n"
          ],
          "name": "stdout"
        }
      ]
    },
    {
      "cell_type": "code",
      "metadata": {
        "id": "ZVudAVL55-sl"
      },
      "source": [
        "import random\n",
        "import numpy as np\n",
        "import keras\n",
        "import wandb\n",
        "from wandb.keras import WandbCallback\n",
        "from keras.models import Sequential, Model\n",
        "from keras.layers import Flatten, Dense, Concatenate, Dot, Lambda, Input\n",
        "from keras.datasets import mnist\n",
        "from keras.optimizers import Adam\n",
        "import matplotlib.pyplot as plt\n"
      ],
      "execution_count": null,
      "outputs": []
    },
    {
      "cell_type": "markdown",
      "metadata": {
        "id": "ibcQyWoF5xU7"
      },
      "source": [
        "# Cargamos los datos, mnist"
      ]
    },
    {
      "cell_type": "code",
      "metadata": {
        "id": "QaodiMQS6Fao",
        "colab": {
          "base_uri": "https://localhost:8080/"
        },
        "outputId": "e1a38f89-72df-4954-f736-6346dc0c84b0"
      },
      "source": [
        "(x_train, y_train), (x_test, y_test) = mnist.load_data()\n",
        "x_train = x_train.astype('float32')\n",
        "x_test = x_test.astype('float32')\n",
        "x_train /= 255\n",
        "x_test /= 255"
      ],
      "execution_count": null,
      "outputs": [
        {
          "output_type": "stream",
          "text": [
            "Downloading data from https://storage.googleapis.com/tensorflow/tf-keras-datasets/mnist.npz\n",
            "11493376/11490434 [==============================] - 0s 0us/step\n"
          ],
          "name": "stdout"
        }
      ]
    },
    {
      "cell_type": "code",
      "metadata": {
        "id": "w5L_6q2zmKmq",
        "colab": {
          "base_uri": "https://localhost:8080/"
        },
        "outputId": "9127832b-c518-454f-c27b-1e0a2cc4506f"
      },
      "source": [
        "y_test.shape,x_test.shape,x_train.shape,y_train.shape"
      ],
      "execution_count": null,
      "outputs": [
        {
          "output_type": "execute_result",
          "data": {
            "text/plain": [
              "((10000,), (10000, 28, 28), (60000, 28, 28), (60000,))"
            ]
          },
          "metadata": {
            "tags": []
          },
          "execution_count": 5
        }
      ]
    },
    {
      "cell_type": "markdown",
      "metadata": {
        "id": "EyPMNGfC6MlI"
      },
      "source": [
        "## Preparamos los datos de entrenamiento y validaciones"
      ]
    },
    {
      "cell_type": "code",
      "metadata": {
        "id": "jpP6U4pb6h1c"
      },
      "source": [
        "def make_pairs(x, y):\n",
        "    num_classes = max(y) + 1\n",
        "    digit_indices = [np.where(y == i)[0] for i in range(num_classes)]\n",
        "\n",
        "    pairs = []\n",
        "    labels = []\n",
        "\n",
        "    for idx1 in range(len(x)):\n",
        "        # add a matching example\n",
        "        x1 = x[idx1]\n",
        "        label1 = y[idx1]\n",
        "        idx2 = random.choice(digit_indices[label1])\n",
        "        x2 = x[idx2]\n",
        "        \n",
        "        pairs += [[x1, x2]]\n",
        "        labels += [1]\n",
        "    \n",
        "        # add a not matching example\n",
        "        label2 = random.randint(0, num_classes-1)\n",
        "        while label2 == label1:\n",
        "            label2 = random.randint(0, num_classes-1)\n",
        "\n",
        "        idx2 = random.choice(digit_indices[label2])\n",
        "        x2 = x[idx2]\n",
        "        \n",
        "        pairs += [[x1, x2]]\n",
        "        labels += [0]\n",
        "\n",
        "    return np.array(pairs), np.array(labels)\n",
        "\n",
        "pairs_train, labels_train = make_pairs(x_train, y_train)\n",
        "pairs_test, labels_test = make_pairs(x_test, y_test)"
      ],
      "execution_count": null,
      "outputs": []
    },
    {
      "cell_type": "code",
      "metadata": {
        "id": "FAXonVTvnEDT",
        "colab": {
          "base_uri": "https://localhost:8080/"
        },
        "outputId": "326e171a-b725-44dc-b317-a6cd5edb8883"
      },
      "source": [
        "pairs_train.shape, labels_train.shape,pairs_test.shape, labels_test.shape"
      ],
      "execution_count": null,
      "outputs": [
        {
          "output_type": "execute_result",
          "data": {
            "text/plain": [
              "((120000, 2, 28, 28), (120000,), (20000, 2, 28, 28), (20000,))"
            ]
          },
          "metadata": {
            "tags": []
          },
          "execution_count": 7
        }
      ]
    },
    {
      "cell_type": "code",
      "metadata": {
        "id": "LdMJEtAR6l-V",
        "colab": {
          "base_uri": "https://localhost:8080/",
          "height": 282
        },
        "outputId": "40574066-8b1a-4b88-8f98-69b1f0605d1c"
      },
      "source": [
        "\n",
        "# Miramos los datos de entrenamiento y prueba\n",
        "plt.imshow(pairs_train[402,0])\n",
        "print(labels_test[402])"
      ],
      "execution_count": null,
      "outputs": [
        {
          "output_type": "stream",
          "text": [
            "1\n"
          ],
          "name": "stdout"
        },
        {
          "output_type": "display_data",
          "data": {
            "image/png": "[encoded data removed]",
            "text/plain": [
              "<Figure size 432x288 with 1 Axes>"
            ]
          },
          "metadata": {
            "tags": [],
            "needs_background": "light"
          }
        }
      ]
    },
    {
      "cell_type": "code",
      "metadata": {
        "id": "_Q4wTa2La822",
        "colab": {
          "base_uri": "https://localhost:8080/"
        },
        "outputId": "7b9d67e2-bcb0-4bc2-c429-0b6ab936dcdf"
      },
      "source": [
        "print(labels_train)"
      ],
      "execution_count": null,
      "outputs": [
        {
          "output_type": "stream",
          "text": [
            "[1 0 1 ... 0 1 0]\n"
          ],
          "name": "stdout"
        }
      ]
    },
    {
      "cell_type": "code",
      "metadata": {
        "id": "5dRlUS0jLU-8",
        "colab": {
          "base_uri": "https://localhost:8080/"
        },
        "outputId": "3c403f8e-4ef8-44fa-ff4a-e3cb18e4a24c"
      },
      "source": [
        "!wandb login 5eef3f3667a91f33b861c2e94a68e3ba4212b22c\n",
        "#wandb login 5eef3f3667a91f33b861c2e94a68e3ba4212b22c"
      ],
      "execution_count": null,
      "outputs": [
        {
          "output_type": "stream",
          "text": [
            "Appending key to your netrc file: /root/.netrc\n",
            "\u001b[32mSuccessfully logged in to Weights & Biases!\u001b[0m\n"
          ],
          "name": "stdout"
        }
      ]
    },
    {
      "cell_type": "markdown",
      "metadata": {
        "id": "5qSwl8140mdr"
      },
      "source": [
        "# **Modelo 1:**"
      ]
    },
    {
      "cell_type": "code",
      "metadata": {
        "id": "hJ1Tpc1p0e1A"
      },
      "source": [
        "\r\n",
        "seq1 = Sequential()\r\n",
        "seq1.add(Flatten(input_shape=(28,28)))\r\n",
        "seq1.add(Dense(128, activation='relu', kernel_initializer='random_normal'))\r\n",
        "seq1.add(Dense(256, activation='relu', kernel_initializer='random_normal'))\r\n",
        "seq1.add(Dense(128, activation='relu', kernel_initializer='random_normal'))\r\n",
        "\r\n",
        "seq2 = Sequential()\r\n",
        "seq2.add(Flatten(input_shape=(28,28)))\r\n",
        "seq1.add(Dense(128, activation='relu', kernel_initializer='random_normal'))\r\n",
        "seq1.add(Dense(256, activation='relu', kernel_initializer='random_normal'))\r\n",
        "seq1.add(Dense(128, activation='relu', kernel_initializer='random_normal'))\r\n",
        "\r\n",
        "merge_layer = Concatenate()([seq1.output, seq2.output])\r\n",
        "dense_layer = Dense(1, activation=\"sigmoid\")(merge_layer)\r\n",
        "model = Model(inputs=[seq1.input, seq2.input], outputs=dense_layer)"
      ],
      "execution_count": null,
      "outputs": []
    },
    {
      "cell_type": "code",
      "metadata": {
        "colab": {
          "base_uri": "https://localhost:8080/"
        },
        "id": "udn2aZk602Bv",
        "outputId": "7fe7a7d3-9a89-43d1-d221-d94fab4d5cc0"
      },
      "source": [
        "model.compile(loss = \"binary_crossentropy\", optimizer=\"adam\", metrics=[\"accuracy\"])\r\n",
        "model.summary()"
      ],
      "execution_count": null,
      "outputs": [
        {
          "output_type": "stream",
          "text": [
            "Model: \"model\"\n",
            "__________________________________________________________________________________________________\n",
            "Layer (type)                    Output Shape         Param #     Connected to                     \n",
            "==================================================================================================\n",
            "flatten_input (InputLayer)      [(None, 28, 28)]     0                                            \n",
            "__________________________________________________________________________________________________\n",
            "flatten (Flatten)               (None, 784)          0           flatten_input[0][0]              \n",
            "__________________________________________________________________________________________________\n",
            "dense (Dense)                   (None, 128)          100480      flatten[0][0]                    \n",
            "__________________________________________________________________________________________________\n",
            "dense_1 (Dense)                 (None, 256)          33024       dense[0][0]                      \n",
            "__________________________________________________________________________________________________\n",
            "dense_2 (Dense)                 (None, 128)          32896       dense_1[0][0]                    \n",
            "__________________________________________________________________________________________________\n",
            "dense_3 (Dense)                 (None, 128)          16512       dense_2[0][0]                    \n",
            "__________________________________________________________________________________________________\n",
            "dense_4 (Dense)                 (None, 256)          33024       dense_3[0][0]                    \n",
            "__________________________________________________________________________________________________\n",
            "flatten_1_input (InputLayer)    [(None, 28, 28)]     0                                            \n",
            "__________________________________________________________________________________________________\n",
            "dense_5 (Dense)                 (None, 128)          32896       dense_4[0][0]                    \n",
            "__________________________________________________________________________________________________\n",
            "flatten_1 (Flatten)             (None, 784)          0           flatten_1_input[0][0]            \n",
            "__________________________________________________________________________________________________\n",
            "concatenate (Concatenate)       (None, 912)          0           dense_5[0][0]                    \n",
            "                                                                 flatten_1[0][0]                  \n",
            "__________________________________________________________________________________________________\n",
            "dense_6 (Dense)                 (None, 1)            913         concatenate[0][0]                \n",
            "==================================================================================================\n",
            "Total params: 249,745\n",
            "Trainable params: 249,745\n",
            "Non-trainable params: 0\n",
            "__________________________________________________________________________________________________\n"
          ],
          "name": "stdout"
        }
      ]
    },
    {
      "cell_type": "code",
      "metadata": {
        "colab": {
          "base_uri": "https://localhost:8080/",
          "height": 390
        },
        "id": "sIf_wBpQ1KAP",
        "outputId": "ac1319be-1bec-4da3-e60a-a3d61c878cb7"
      },
      "source": [
        "wandb.init()\r\n",
        "#guillo21unico/\"siamese\""
      ],
      "execution_count": null,
      "outputs": [
        {
          "output_type": "stream",
          "text": [
            "\u001b[34m\u001b[1mwandb\u001b[0m: \u001b[32m\u001b[41mERROR\u001b[0m: No W&B project configured.\n"
          ],
          "name": "stderr"
        },
        {
          "output_type": "stream",
          "text": [
            "Enter username/project: guillo21unico/\"siamese\"\n",
            "W&B Run: https://app.wandb.ai/guillo21unico/\"siamese\"/runs/3181u03e\n",
            "Wrap your training loop with `with wandb.monitor():` to display live results.\n"
          ],
          "name": "stdout"
        },
        {
          "output_type": "execute_result",
          "data": {
            "text/html": [
              "<iframe src=\"https://app.wandb.ai/guillo21unico/\"siamese\"/runs/3181u03e/edit?jupyter=true\" style=\"border:none;width:100%;height:300px\">\n",
              "            </iframe>"
            ],
            "text/plain": [
              "W&B Run https://app.wandb.ai/guillo21unico/\"siamese\"/runs/3181u03e"
            ]
          },
          "metadata": {
            "tags": []
          },
          "execution_count": 13
        }
      ]
    },
    {
      "cell_type": "code",
      "metadata": {
        "colab": {
          "base_uri": "https://localhost:8080/"
        },
        "id": "6jR2qKIT04g3",
        "outputId": "093a11c9-ac89-432a-d2e1-977814a779b4"
      },
      "source": [
        "\r\n",
        "wandb.run\r\n",
        "#model.fit([pairs_train[:,0], pairs_train[:,1]], labels_train[:], batch_size=16, epochs= 10, callbacks=[WandbCallback()])\r\n",
        "log0=model.fit([pairs_train[:,0], pairs_train[:,1]], labels_train[:], batch_size=16, epochs=10, callbacks=[WandbCallback()])"
      ],
      "execution_count": null,
      "outputs": [
        {
          "output_type": "stream",
          "text": [
            "Epoch 1/10\n",
            "7500/7500 [==============================] - 20s 2ms/step - loss: 0.7004 - accuracy: 0.5030\n",
            "Epoch 2/10\n",
            "7500/7500 [==============================] - 19s 3ms/step - loss: 0.6975 - accuracy: 0.5067\n",
            "Epoch 3/10\n",
            "7500/7500 [==============================] - 18s 2ms/step - loss: 0.6966 - accuracy: 0.5143\n",
            "Epoch 4/10\n",
            "7500/7500 [==============================] - 18s 2ms/step - loss: 0.6966 - accuracy: 0.5112\n",
            "Epoch 5/10\n",
            "7500/7500 [==============================] - 18s 2ms/step - loss: 0.6971 - accuracy: 0.5094\n",
            "Epoch 6/10\n",
            "7500/7500 [==============================] - 18s 2ms/step - loss: 0.6967 - accuracy: 0.5113\n",
            "Epoch 7/10\n",
            "7500/7500 [==============================] - 18s 2ms/step - loss: 0.6971 - accuracy: 0.5102\n",
            "Epoch 8/10\n",
            "7500/7500 [==============================] - 18s 2ms/step - loss: 0.6966 - accuracy: 0.5121\n",
            "Epoch 9/10\n",
            "7500/7500 [==============================] - 19s 2ms/step - loss: 0.6959 - accuracy: 0.5152\n",
            "Epoch 10/10\n",
            "7500/7500 [==============================] - 18s 2ms/step - loss: 0.6962 - accuracy: 0.5130\n"
          ],
          "name": "stdout"
        }
      ]
    },
    {
      "cell_type": "markdown",
      "metadata": {
        "id": "mMXMQD0W0311"
      },
      "source": [
        "# **Modelo 2: Optimizacion del modelo con una función euclidiana**"
      ]
    },
    {
      "cell_type": "code",
      "metadata": {
        "id": "ysofGK_5RF0h",
        "colab": {
          "base_uri": "https://localhost:8080/"
        },
        "outputId": "eb689e7e-beb3-4966-b05d-47cd1061ae5f"
      },
      "source": [
        "from keras import backend as K\n",
        "\n",
        "def euclidean_distance(vects):\n",
        "    x, y = vects\n",
        "    sum_square = K.sum(K.square(x - y), axis=1, keepdims=True)\n",
        "    return K.sqrt(K.maximum(sum_square, K.epsilon()))\n",
        "\n",
        "input = Input((28,28))\n",
        "print(input)\n",
        "x = Flatten()(input)\n",
        "x = Dense(128, activation='relu')(x)\n",
        "dense = Model(input, x)\n",
        "\n",
        "input1 = Input((28,28))\n",
        "input2 = Input((28,28))\n",
        "\n",
        "dense1 = dense(input1)\n",
        "dense2 = dense(input2)\n",
        "\n",
        "merge_layer = Lambda(euclidean_distance)([dense1,dense2])\n",
        "dense_layer = Dense(1, activation=\"sigmoid\")(merge_layer)\n",
        "model2 = Model(inputs=[input1, input2], outputs=dense_layer)\n"
      ],
      "execution_count": null,
      "outputs": [
        {
          "output_type": "stream",
          "text": [
            "KerasTensor(type_spec=TensorSpec(shape=(None, 28, 28), dtype=tf.float32, name='input_1'), name='input_1', description=\"created by layer 'input_1'\")\n"
          ],
          "name": "stdout"
        }
      ]
    },
    {
      "cell_type": "code",
      "metadata": {
        "id": "8VqE_BM4RGvu",
        "colab": {
          "base_uri": "https://localhost:8080/"
        },
        "outputId": "303ccf4e-616b-4bc4-ae06-6b22b3dc8d2d"
      },
      "source": [
        "model2.compile(loss = \"binary_crossentropy\", optimizer=\"adam\", metrics=[\"accuracy\"])\n",
        "model2.summary()"
      ],
      "execution_count": null,
      "outputs": [
        {
          "output_type": "stream",
          "text": [
            "Model: \"model_2\"\n",
            "__________________________________________________________________________________________________\n",
            "Layer (type)                    Output Shape         Param #     Connected to                     \n",
            "==================================================================================================\n",
            "input_2 (InputLayer)            [(None, 28, 28)]     0                                            \n",
            "__________________________________________________________________________________________________\n",
            "input_3 (InputLayer)            [(None, 28, 28)]     0                                            \n",
            "__________________________________________________________________________________________________\n",
            "model_1 (Functional)            (None, 128)          100480      input_2[0][0]                    \n",
            "                                                                 input_3[0][0]                    \n",
            "__________________________________________________________________________________________________\n",
            "lambda (Lambda)                 (None, 1)            0           model_1[0][0]                    \n",
            "                                                                 model_1[1][0]                    \n",
            "__________________________________________________________________________________________________\n",
            "dense_8 (Dense)                 (None, 1)            2           lambda[0][0]                     \n",
            "==================================================================================================\n",
            "Total params: 100,482\n",
            "Trainable params: 100,482\n",
            "Non-trainable params: 0\n",
            "__________________________________________________________________________________________________\n"
          ],
          "name": "stdout"
        }
      ]
    },
    {
      "cell_type": "markdown",
      "metadata": {
        "id": "n031d3h8w1h6"
      },
      "source": [
        "## Entrenamos el modelo \r\n",
        "## Primero comprobamos el login a Weights & Biases\r\n",
        "## Luego corremos el fit de entrenamiento y ajuste"
      ]
    },
    {
      "cell_type": "code",
      "metadata": {
        "colab": {
          "base_uri": "https://localhost:8080/",
          "height": 355
        },
        "id": "4hnFN-0aw6Hc",
        "outputId": "240f527f-d257-4f96-96f0-6fddf69c7703"
      },
      "source": [
        "wandb.init()\r\n",
        "#guillo21unico/\"siamese\""
      ],
      "execution_count": null,
      "outputs": [
        {
          "output_type": "stream",
          "text": [
            "W&B Run: https://app.wandb.ai/guillo21unico/\"siamese\"/runs/1r4iykpo\n",
            "Wrap your training loop with `with wandb.monitor():` to display live results.\n"
          ],
          "name": "stdout"
        },
        {
          "output_type": "execute_result",
          "data": {
            "text/html": [
              "<iframe src=\"https://app.wandb.ai/guillo21unico/\"siamese\"/runs/1r4iykpo/edit?jupyter=true\" style=\"border:none;width:100%;height:300px\">\n",
              "            </iframe>"
            ],
            "text/plain": [
              "W&B Run https://app.wandb.ai/guillo21unico/\"siamese\"/runs/1r4iykpo"
            ]
          },
          "metadata": {
            "tags": []
          },
          "execution_count": 17
        }
      ]
    },
    {
      "cell_type": "code",
      "metadata": {
        "id": "3OoGHwwGRJvi",
        "colab": {
          "base_uri": "https://localhost:8080/"
        },
        "outputId": "aaa424a9-91a8-457f-cb48-b9515543b8c1"
      },
      "source": [
        "wandb.run\n",
        "log=model2.fit([pairs_train[:,0], pairs_train[:,1]], labels_train[:], batch_size=16, epochs=10, callbacks=[WandbCallback()])\n",
        "#log = model.fit(x_train, y_train, batch_size=bs, epochs=6, validation_data=(x_test, y_test))"
      ],
      "execution_count": null,
      "outputs": [
        {
          "output_type": "stream",
          "text": [
            "Epoch 1/10\n",
            "7500/7500 [==============================] - 16s 2ms/step - loss: 0.4854 - accuracy: 0.7517\n",
            "Epoch 2/10\n",
            "7500/7500 [==============================] - 16s 2ms/step - loss: 0.2577 - accuracy: 0.9034\n",
            "Epoch 3/10\n",
            "7500/7500 [==============================] - 16s 2ms/step - loss: 0.2164 - accuracy: 0.9173\n",
            "Epoch 4/10\n",
            "7500/7500 [==============================] - 16s 2ms/step - loss: 0.2025 - accuracy: 0.9240\n",
            "Epoch 5/10\n",
            "7500/7500 [==============================] - 16s 2ms/step - loss: 0.1943 - accuracy: 0.9259\n",
            "Epoch 6/10\n",
            "7500/7500 [==============================] - 16s 2ms/step - loss: 0.1866 - accuracy: 0.9289\n",
            "Epoch 7/10\n",
            "7500/7500 [==============================] - 16s 2ms/step - loss: 0.1826 - accuracy: 0.9301\n",
            "Epoch 8/10\n",
            "7500/7500 [==============================] - 16s 2ms/step - loss: 0.1828 - accuracy: 0.9297\n",
            "Epoch 9/10\n",
            "7500/7500 [==============================] - 16s 2ms/step - loss: 0.1776 - accuracy: 0.9316\n",
            "Epoch 10/10\n",
            "7500/7500 [==============================] - 17s 2ms/step - loss: 0.1765 - accuracy: 0.9323\n"
          ],
          "name": "stdout"
        }
      ]
    },
    {
      "cell_type": "markdown",
      "metadata": {
        "id": "XMPbjO9o0iG9"
      },
      "source": [
        "# Evaluación del Modelo"
      ]
    },
    {
      "cell_type": "code",
      "metadata": {
        "id": "tl44gtsriYtS"
      },
      "source": [
        "def show_results(model, log):\n",
        "    loss, acc=model.evaluate([pairs_test[:,0], pairs_test[:,1]], labels_test[:], batch_size=16, verbose=False)\n",
        "    print(f'Loss     = {loss:.4f}')\n",
        "    print(f'Accuracy = {acc:.4f}')\n",
        "    \n",
        "    val_loss = log.history['loss']\n",
        "    #val_acc = log.history['acc']\n",
        "        \n",
        "    fig, axes = plt.subplots(1, 2, figsize=(14,4))\n",
        "    ax1, ax2 = axes\n",
        "    ax1.plot(log.history['loss'], label='train')\n",
        "    ax1.plot(val_loss, label='test')\n",
        "    ax1.set_xlabel('epoch'); ax1.set_ylabel('loss')\n",
        "    ax2.plot(log.history['accuracy'], label='train')\n",
        "    #ax2.plot(val_acc, label='test')\n",
        "    ax2.set_xlabel('epoch'); ax2.set_ylabel('accuracy')\n",
        "    for ax in axes: ax.legend()"
      ],
      "execution_count": null,
      "outputs": []
    },
    {
      "cell_type": "markdown",
      "metadata": {
        "id": "cRvDPVIM1bGB"
      },
      "source": [
        "**Resultados Modelo1**"
      ]
    },
    {
      "cell_type": "code",
      "metadata": {
        "colab": {
          "base_uri": "https://localhost:8080/",
          "height": 318
        },
        "id": "cbvosw0hPIEk",
        "outputId": "aaed909b-c461-4bbc-983f-9723d9f5adb3"
      },
      "source": [
        "show_results(model, log0)"
      ],
      "execution_count": null,
      "outputs": [
        {
          "output_type": "stream",
          "text": [
            "Loss     = 0.7018\n",
            "Accuracy = 0.5016\n"
          ],
          "name": "stdout"
        },
        {
          "output_type": "display_data",
          "data": {
            "image/png": "[encoded data removed]",
            "text/plain": [
              "<Figure size 1008x288 with 2 Axes>"
            ]
          },
          "metadata": {
            "tags": [],
            "needs_background": "light"
          }
        }
      ]
    },
    {
      "cell_type": "markdown",
      "metadata": {
        "id": "O1QeopMK1lvD"
      },
      "source": [
        "**Resultados Modelo2**"
      ]
    },
    {
      "cell_type": "code",
      "metadata": {
        "id": "JajJC8mF6Aml",
        "colab": {
          "base_uri": "https://localhost:8080/",
          "height": 314
        },
        "outputId": "afbc71a5-7f60-4f1b-e1da-55cb6eb5c569"
      },
      "source": [
        "show_results(model2, log)"
      ],
      "execution_count": null,
      "outputs": [
        {
          "output_type": "stream",
          "text": [
            "Loss     = 0.1977\n",
            "Accuracy = 0.9245\n"
          ],
          "name": "stdout"
        },
        {
          "output_type": "display_data",
          "data": {
            "image/png": "[encoded data removed]",
            "text/plain": [
              "<Figure size 1008x288 with 2 Axes>"
            ]
          },
          "metadata": {
            "tags": [],
            "needs_background": "light"
          }
        }
      ]
    },
    {
      "cell_type": "markdown",
      "metadata": {
        "id": "9yUWcgqO0sK-"
      },
      "source": [
        "# Comprobamos como esta prediciendo el modelo 2\r\n",
        "# Si hay similitud o no"
      ]
    },
    {
      "cell_type": "code",
      "metadata": {
        "id": "1g0aVuGviQfl",
        "colab": {
          "base_uri": "https://localhost:8080/"
        },
        "outputId": "f664ade8-2b7a-4145-8b2c-c4bed43586aa"
      },
      "source": [
        "p=model2.predict([pairs_test[:,0], pairs_test[:,1]])\n",
        "n=208\n",
        "print(p[n])\n",
        "print(np.sum(p[n]))\n",
        "print(np.argmax(p[n]))\n",
        "if labels_test[n]==1:\n",
        "  print('--> los manuscritos son ==== Similares')\n",
        "else:\n",
        "  print('--> los manuscritos son diferentes')"
      ],
      "execution_count": null,
      "outputs": [
        {
          "output_type": "stream",
          "text": [
            "[0.992837]\n",
            "0.992837\n",
            "0\n",
            "--> los manuscritos son ==== Similares\n"
          ],
          "name": "stdout"
        }
      ]
    },
    {
      "cell_type": "code",
      "metadata": {
        "id": "traZshanRQ19",
        "colab": {
          "base_uri": "https://localhost:8080/",
          "height": 282
        },
        "outputId": "744cd1a0-140e-4dc7-c622-1af89ba44641"
      },
      "source": [
        "plt.imshow(pairs_test[n,0])\n",
        "if labels_test[n]==1:\n",
        "  print('--> los manuscritos son ==== Similares')\n",
        "else:\n",
        "  print('--> los manuscritos son diferentes')\n",
        "#plt.imshow(pairs_test[n,1])"
      ],
      "execution_count": null,
      "outputs": [
        {
          "output_type": "stream",
          "text": [
            "--> los manuscritos son ==== Similares\n"
          ],
          "name": "stdout"
        },
        {
          "output_type": "display_data",
          "data": {
            "image/png": "[encoded data removed]",
            "text/plain": [
              "<Figure size 432x288 with 1 Axes>"
            ]
          },
          "metadata": {
            "tags": [],
            "needs_background": "light"
          }
        }
      ]
    },
    {
      "cell_type": "code",
      "metadata": {
        "id": "jq4D52eilXt_",
        "colab": {
          "base_uri": "https://localhost:8080/",
          "height": 282
        },
        "outputId": "0b66fca8-6c2b-4809-bf43-8bdbe8cf7edb"
      },
      "source": [
        "plt.imshow(pairs_test[n,1])"
      ],
      "execution_count": null,
      "outputs": [
        {
          "output_type": "execute_result",
          "data": {
            "text/plain": [
              "<matplotlib.image.AxesImage at 0x7f3490393860>"
            ]
          },
          "metadata": {
            "tags": []
          },
          "execution_count": 24
        },
        {
          "output_type": "display_data",
          "data": {
            "image/png": "[encoded data removed]",
            "text/plain": [
              "<Figure size 432x288 with 1 Axes>"
            ]
          },
          "metadata": {
            "tags": [],
            "needs_background": "light"
          }
        }
      ]
    },
    {
      "cell_type": "markdown",
      "metadata": {
        "id": "0Z1ZXN5aB1kP"
      },
      "source": [
        "# Prueba de un disparo para objetos distintos Modelo 1"
      ]
    },
    {
      "cell_type": "code",
      "metadata": {
        "colab": {
          "base_uri": "https://localhost:8080/"
        },
        "id": "lWln22cBBFKt",
        "outputId": "1ccba329-dbcd-4b1c-c4e7-a873c4c7e970"
      },
      "source": [
        "p=model.predict([pairs_test[:,0], pairs_test[:,1]])\r\n",
        "n=208\r\n",
        "print(p[n])\r\n",
        "print(np.sum(p[n]))\r\n",
        "print(np.argmax(p[n]))\r\n",
        "if labels_test[n]==1:\r\n",
        "  print('--> los manuscritos son Similares')\r\n",
        "else:\r\n",
        "  print('--> los manuscritos *****son diferentes')"
      ],
      "execution_count": null,
      "outputs": [
        {
          "output_type": "stream",
          "text": [
            "[0.52415234]\n",
            "0.52415234\n",
            "0\n",
            "--> los manuscritos son Similares\n"
          ],
          "name": "stdout"
        }
      ]
    },
    {
      "cell_type": "code",
      "metadata": {
        "colab": {
          "base_uri": "https://localhost:8080/",
          "height": 282
        },
        "id": "8y95LFJLBLiu",
        "outputId": "2207e293-f61a-4317-e538-98fa19986316"
      },
      "source": [
        "plt.imshow(pairs_test[n,0])\r\n",
        "if labels_test[n]==1:\r\n",
        "  print('--> los manuscritos son Similares')\r\n",
        "else:\r\n",
        "  print('--> los manuscritos son diferentes')\r\n",
        "#plt.imshow(pairs_test[n,1])"
      ],
      "execution_count": null,
      "outputs": [
        {
          "output_type": "stream",
          "text": [
            "--> los manuscritos son Similares\n"
          ],
          "name": "stdout"
        },
        {
          "output_type": "display_data",
          "data": {
            "image/png": "[encoded data removed]",
            "text/plain": [
              "<Figure size 432x288 with 1 Axes>"
            ]
          },
          "metadata": {
            "tags": [],
            "needs_background": "light"
          }
        }
      ]
    },
    {
      "cell_type": "code",
      "metadata": {
        "colab": {
          "base_uri": "https://localhost:8080/",
          "height": 282
        },
        "id": "0aXcdWDaBPKM",
        "outputId": "6c3e3236-7678-48a6-9bff-213a6977dc61"
      },
      "source": [
        "plt.imshow(pairs_test[n,1])"
      ],
      "execution_count": null,
      "outputs": [
        {
          "output_type": "execute_result",
          "data": {
            "text/plain": [
              "<matplotlib.image.AxesImage at 0x7f34902eacf8>"
            ]
          },
          "metadata": {
            "tags": []
          },
          "execution_count": 27
        },
        {
          "output_type": "display_data",
          "data": {
            "image/png": "[encoded data removed]",
            "text/plain": [
              "<Figure size 432x288 with 1 Axes>"
            ]
          },
          "metadata": {
            "tags": [],
            "needs_background": "light"
          }
        }
      ]
    }
  ]
}